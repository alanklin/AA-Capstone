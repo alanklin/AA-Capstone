{
 "cells": [
  {
   "cell_type": "code",
   "execution_count": 2,
   "metadata": {},
   "outputs": [],
   "source": [
    "# Standard Setup Import\n",
    "from _Setup import *"
   ]
  },
  {
   "cell_type": "code",
   "execution_count": 3,
   "metadata": {},
   "outputs": [
    {
     "data": {
      "text/html": [
       "<div>\n",
       "<style scoped>\n",
       "    .dataframe tbody tr th:only-of-type {\n",
       "        vertical-align: middle;\n",
       "    }\n",
       "\n",
       "    .dataframe tbody tr th {\n",
       "        vertical-align: top;\n",
       "    }\n",
       "\n",
       "    .dataframe thead th {\n",
       "        text-align: right;\n",
       "    }\n",
       "</style>\n",
       "<table border=\"1\" class=\"dataframe\">\n",
       "  <thead>\n",
       "    <tr style=\"text-align: right;\">\n",
       "      <th></th>\n",
       "      <th>Fiscal Year</th>\n",
       "      <th>Month Grouping</th>\n",
       "      <th>Month (abbv)</th>\n",
       "      <th>Land Border Region</th>\n",
       "      <th>State</th>\n",
       "      <th>Demographic</th>\n",
       "      <th>Citizenship</th>\n",
       "      <th>Title of Authority</th>\n",
       "      <th>Encounter Count</th>\n",
       "    </tr>\n",
       "  </thead>\n",
       "  <tbody>\n",
       "    <tr>\n",
       "      <th>0</th>\n",
       "      <td>2022</td>\n",
       "      <td>FYTD</td>\n",
       "      <td>DEC</td>\n",
       "      <td>Northern Land Border</td>\n",
       "      <td>AK</td>\n",
       "      <td>Single Adults</td>\n",
       "      <td>CANADA</td>\n",
       "      <td>Title 8</td>\n",
       "      <td>3</td>\n",
       "    </tr>\n",
       "    <tr>\n",
       "      <th>1</th>\n",
       "      <td>2022</td>\n",
       "      <td>FYTD</td>\n",
       "      <td>DEC</td>\n",
       "      <td>Northern Land Border</td>\n",
       "      <td>ID</td>\n",
       "      <td>Single Adults</td>\n",
       "      <td>CANADA</td>\n",
       "      <td>Title 8</td>\n",
       "      <td>6</td>\n",
       "    </tr>\n",
       "    <tr>\n",
       "      <th>2</th>\n",
       "      <td>2022</td>\n",
       "      <td>FYTD</td>\n",
       "      <td>DEC</td>\n",
       "      <td>Northern Land Border</td>\n",
       "      <td>ID</td>\n",
       "      <td>Single Adults</td>\n",
       "      <td>CHINA, PEOPLES REPUBLIC OF</td>\n",
       "      <td>Title 8</td>\n",
       "      <td>1</td>\n",
       "    </tr>\n",
       "    <tr>\n",
       "      <th>3</th>\n",
       "      <td>2022</td>\n",
       "      <td>FYTD</td>\n",
       "      <td>DEC</td>\n",
       "      <td>Northern Land Border</td>\n",
       "      <td>ID</td>\n",
       "      <td>Single Adults</td>\n",
       "      <td>OTHER</td>\n",
       "      <td>Title 8</td>\n",
       "      <td>2</td>\n",
       "    </tr>\n",
       "    <tr>\n",
       "      <th>4</th>\n",
       "      <td>2022</td>\n",
       "      <td>FYTD</td>\n",
       "      <td>DEC</td>\n",
       "      <td>Northern Land Border</td>\n",
       "      <td>ME</td>\n",
       "      <td>Accompanied Minors</td>\n",
       "      <td>CANADA</td>\n",
       "      <td>Title 42</td>\n",
       "      <td>1</td>\n",
       "    </tr>\n",
       "  </tbody>\n",
       "</table>\n",
       "</div>"
      ],
      "text/plain": [
       "  Fiscal Year Month Grouping Month (abbv)    Land Border Region State  \\\n",
       "0        2022           FYTD          DEC  Northern Land Border    AK   \n",
       "1        2022           FYTD          DEC  Northern Land Border    ID   \n",
       "2        2022           FYTD          DEC  Northern Land Border    ID   \n",
       "3        2022           FYTD          DEC  Northern Land Border    ID   \n",
       "4        2022           FYTD          DEC  Northern Land Border    ME   \n",
       "\n",
       "          Demographic                 Citizenship Title of Authority  \\\n",
       "0       Single Adults                      CANADA            Title 8   \n",
       "1       Single Adults                      CANADA            Title 8   \n",
       "2       Single Adults  CHINA, PEOPLES REPUBLIC OF            Title 8   \n",
       "3       Single Adults                       OTHER            Title 8   \n",
       "4  Accompanied Minors                      CANADA           Title 42   \n",
       "\n",
       "   Encounter Count  \n",
       "0                3  \n",
       "1                6  \n",
       "2                1  \n",
       "3                2  \n",
       "4                1  "
      ]
     },
     "execution_count": 3,
     "metadata": {},
     "output_type": "execute_result"
    }
   ],
   "source": [
    "# Import state-level data\n",
    "state_df = pd.read_csv(state_data_csv_path)\n",
    "state_df.head()"
   ]
  },
  {
   "cell_type": "code",
   "execution_count": 4,
   "metadata": {},
   "outputs": [
    {
     "name": "stdout",
     "output_type": "stream",
     "text": [
      "['2022' '2023' 2024 2025 '2020' '2021']\n"
     ]
    }
   ],
   "source": [
    "state_df.replace(to_replace=\"2025 (FYTD)\", value=2025, inplace=True)\n",
    "state_df.replace(to_replace='2024', value=2024, inplace=True)\n",
    "print(state_df['Fiscal Year'].unique())"
   ]
  },
  {
   "cell_type": "code",
   "execution_count": 5,
   "metadata": {},
   "outputs": [
    {
     "name": "stdout",
     "output_type": "stream",
     "text": [
      "<DatetimeArray>\n",
      "['2021-12-01 00:00:00', '2021-11-01 00:00:00', '2021-10-01 00:00:00',\n",
      " '2022-04-01 00:00:00', '2022-08-01 00:00:00', '2022-02-01 00:00:00',\n",
      " '2022-01-01 00:00:00', '2022-07-01 00:00:00', '2022-06-01 00:00:00',\n",
      " '2022-03-01 00:00:00', '2022-05-01 00:00:00', '2022-09-01 00:00:00',\n",
      " '2022-12-01 00:00:00', '2022-11-01 00:00:00', '2022-10-01 00:00:00',\n",
      " '2023-04-01 00:00:00', '2023-08-01 00:00:00', '2023-02-01 00:00:00',\n",
      " '2023-01-01 00:00:00', '2023-07-01 00:00:00', '2023-06-01 00:00:00',\n",
      " '2023-03-01 00:00:00', '2023-05-01 00:00:00', '2023-09-01 00:00:00',\n",
      " '2023-12-01 00:00:00', '2023-11-01 00:00:00', '2023-10-01 00:00:00',\n",
      " '2024-04-01 00:00:00', '2024-08-01 00:00:00', '2024-02-01 00:00:00',\n",
      " '2024-01-01 00:00:00', '2024-07-01 00:00:00', '2024-06-01 00:00:00',\n",
      " '2024-03-01 00:00:00', '2024-05-01 00:00:00', '2024-09-01 00:00:00',\n",
      " '2024-12-01 00:00:00', '2024-11-01 00:00:00', '2024-10-01 00:00:00',\n",
      " '2020-04-01 00:00:00', '2020-08-01 00:00:00', '2019-12-01 00:00:00',\n",
      " '2020-02-01 00:00:00', '2020-01-01 00:00:00', '2020-07-01 00:00:00',\n",
      " '2020-06-01 00:00:00', '2020-03-01 00:00:00', '2020-05-01 00:00:00',\n",
      " '2019-11-01 00:00:00', '2019-10-01 00:00:00', '2020-09-01 00:00:00',\n",
      " '2021-04-01 00:00:00', '2021-08-01 00:00:00', '2020-12-01 00:00:00',\n",
      " '2021-02-01 00:00:00', '2021-01-01 00:00:00', '2021-07-01 00:00:00',\n",
      " '2021-06-01 00:00:00', '2021-03-01 00:00:00', '2021-05-01 00:00:00',\n",
      " '2020-11-01 00:00:00', '2020-10-01 00:00:00', '2021-09-01 00:00:00']\n",
      "Length: 63, dtype: datetime64[ns]\n"
     ]
    }
   ],
   "source": [
    "# Create a dictionary mapping month abbreviations (uppercase) to month numbers\n",
    "month_abbr_to_num = {\n",
    "    'JAN': 1, 'FEB': 2, 'MAR': 3, 'APR': 4, 'MAY': 5, 'JUN': 6,\n",
    "    'JUL': 7, 'AUG': 8, 'SEP': 9, 'OCT': 10, 'NOV': 11, 'DEC': 12\n",
    "}\n",
    "\n",
    "# Function to convert Fiscal Year and Month (abbv) to a Year-Date\n",
    "def convert_to_fiscal_year_date(row):\n",
    "    month_num = month_abbr_to_num[row['Month (abbv)'].upper()]\n",
    "    fiscal_year = int(row['Fiscal Year'])  # Convert Fiscal Year to integer\n",
    "    \n",
    "    # Adjust fiscal year for months January through September\n",
    "    if month_num >= 10:  # Jan - Sep belong to the previous calendar year\n",
    "        fiscal_year -= 1\n",
    "    \n",
    "    # Format the fiscal year and month into a date string\n",
    "    return f\"{fiscal_year}-{month_num:02d}-01\"\n",
    "\n",
    "# Apply the function to create a Year-Date column in fytd_df\n",
    "state_df['Year-Date'] = state_df.apply(lambda row: convert_to_fiscal_year_date(row), axis=1)\n",
    "\n",
    "# Convert the new column to datetime format\n",
    "state_df['Year-Date'] = pd.to_datetime(state_df['Year-Date'], format='%Y-%m-%d')\n",
    "\n",
    "# Display the dataframe with the new fiscal year-based Year-Date\n",
    "print(state_df['Year-Date'].unique())"
   ]
  },
  {
   "cell_type": "code",
   "execution_count": 6,
   "metadata": {},
   "outputs": [],
   "source": [
    "state_df.to_csv(state_data_csv_path_cleaned, index=False)"
   ]
  },
  {
   "cell_type": "markdown",
   "metadata": {},
   "source": [
    "Seems standard to use the last full year of data as the test set, luckily for us, the data ends in December 2024, so we'll have Jan-Dec 2024 as our test set. We can designate the rest of the data to be in the training set/validation"
   ]
  },
  {
   "cell_type": "code",
   "execution_count": 7,
   "metadata": {},
   "outputs": [],
   "source": [
    "train_df = state_df[state_df['Year-Date'] < '2024-01-01']\n",
    "test_df = state_df[state_df['Year-Date'] >= '2024-01-01']"
   ]
  },
  {
   "cell_type": "code",
   "execution_count": 9,
   "metadata": {},
   "outputs": [],
   "source": [
    "train_df.to_csv(state_data_train, index = False)\n",
    "test_df.to_csv(state_data_test, index = False)"
   ]
  }
 ],
 "metadata": {
  "kernelspec": {
   "display_name": "ML-AI-Courses",
   "language": "python",
   "name": "python3"
  },
  "language_info": {
   "codemirror_mode": {
    "name": "ipython",
    "version": 3
   },
   "file_extension": ".py",
   "mimetype": "text/x-python",
   "name": "python",
   "nbconvert_exporter": "python",
   "pygments_lexer": "ipython3",
   "version": "3.12.7"
  }
 },
 "nbformat": 4,
 "nbformat_minor": 2
}
