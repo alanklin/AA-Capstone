{
 "cells": [
  {
   "cell_type": "code",
   "execution_count": 12,
   "metadata": {},
   "outputs": [],
   "source": [
    "import sys\n",
    "import os\n",
    "\n",
    "code_folder_path = os.path.abspath(os.path.join(os.getcwd(), \"..\"))\n",
    "sys.path.append(code_folder_path)\n",
    "from _Setup import *"
   ]
  },
  {
   "cell_type": "code",
   "execution_count": 4,
   "metadata": {},
   "outputs": [
    {
     "name": "stderr",
     "output_type": "stream",
     "text": [
      "<>:1: SyntaxWarning: invalid escape sequence '\\A'\n",
      "<>:1: SyntaxWarning: invalid escape sequence '\\A'\n",
      "C:\\Users\\super\\AppData\\Local\\Temp\\ipykernel_34004\\1115188009.py:1: SyntaxWarning: invalid escape sequence '\\A'\n",
      "  state_data = pd.read_csv(\"C:\\AA-Capstone\\Data\\Border_State_Data.csv\", header = 0)\n"
     ]
    }
   ],
   "source": [
    "state_data = pd.read_csv(\"C:\\AA-Capstone\\Data\\Border_State_Data.csv\", header = 0)\n"
   ]
  },
  {
   "cell_type": "code",
   "execution_count": 5,
   "metadata": {},
   "outputs": [
    {
     "data": {
      "text/html": [
       "<div>\n",
       "<style scoped>\n",
       "    .dataframe tbody tr th:only-of-type {\n",
       "        vertical-align: middle;\n",
       "    }\n",
       "\n",
       "    .dataframe tbody tr th {\n",
       "        vertical-align: top;\n",
       "    }\n",
       "\n",
       "    .dataframe thead th {\n",
       "        text-align: right;\n",
       "    }\n",
       "</style>\n",
       "<table border=\"1\" class=\"dataframe\">\n",
       "  <thead>\n",
       "    <tr style=\"text-align: right;\">\n",
       "      <th></th>\n",
       "      <th>Fiscal Year</th>\n",
       "      <th>Month Grouping</th>\n",
       "      <th>Month (abbv)</th>\n",
       "      <th>Land Border Region</th>\n",
       "      <th>State</th>\n",
       "      <th>Demographic</th>\n",
       "      <th>Citizenship</th>\n",
       "      <th>Title of Authority</th>\n",
       "      <th>Encounter Count</th>\n",
       "    </tr>\n",
       "  </thead>\n",
       "  <tbody>\n",
       "    <tr>\n",
       "      <th>0</th>\n",
       "      <td>2022</td>\n",
       "      <td>FYTD</td>\n",
       "      <td>DEC</td>\n",
       "      <td>Northern Land Border</td>\n",
       "      <td>AK</td>\n",
       "      <td>Single Adults</td>\n",
       "      <td>CANADA</td>\n",
       "      <td>Title 8</td>\n",
       "      <td>3</td>\n",
       "    </tr>\n",
       "    <tr>\n",
       "      <th>1</th>\n",
       "      <td>2022</td>\n",
       "      <td>FYTD</td>\n",
       "      <td>DEC</td>\n",
       "      <td>Northern Land Border</td>\n",
       "      <td>ID</td>\n",
       "      <td>Single Adults</td>\n",
       "      <td>CANADA</td>\n",
       "      <td>Title 8</td>\n",
       "      <td>6</td>\n",
       "    </tr>\n",
       "    <tr>\n",
       "      <th>2</th>\n",
       "      <td>2022</td>\n",
       "      <td>FYTD</td>\n",
       "      <td>DEC</td>\n",
       "      <td>Northern Land Border</td>\n",
       "      <td>ID</td>\n",
       "      <td>Single Adults</td>\n",
       "      <td>CHINA, PEOPLES REPUBLIC OF</td>\n",
       "      <td>Title 8</td>\n",
       "      <td>1</td>\n",
       "    </tr>\n",
       "    <tr>\n",
       "      <th>3</th>\n",
       "      <td>2022</td>\n",
       "      <td>FYTD</td>\n",
       "      <td>DEC</td>\n",
       "      <td>Northern Land Border</td>\n",
       "      <td>ID</td>\n",
       "      <td>Single Adults</td>\n",
       "      <td>OTHER</td>\n",
       "      <td>Title 8</td>\n",
       "      <td>2</td>\n",
       "    </tr>\n",
       "    <tr>\n",
       "      <th>4</th>\n",
       "      <td>2022</td>\n",
       "      <td>FYTD</td>\n",
       "      <td>DEC</td>\n",
       "      <td>Northern Land Border</td>\n",
       "      <td>ME</td>\n",
       "      <td>Accompanied Minors</td>\n",
       "      <td>CANADA</td>\n",
       "      <td>Title 42</td>\n",
       "      <td>1</td>\n",
       "    </tr>\n",
       "  </tbody>\n",
       "</table>\n",
       "</div>"
      ],
      "text/plain": [
       "  Fiscal Year Month Grouping Month (abbv)    Land Border Region State  \\\n",
       "0        2022           FYTD          DEC  Northern Land Border    AK   \n",
       "1        2022           FYTD          DEC  Northern Land Border    ID   \n",
       "2        2022           FYTD          DEC  Northern Land Border    ID   \n",
       "3        2022           FYTD          DEC  Northern Land Border    ID   \n",
       "4        2022           FYTD          DEC  Northern Land Border    ME   \n",
       "\n",
       "          Demographic                 Citizenship Title of Authority  \\\n",
       "0       Single Adults                      CANADA            Title 8   \n",
       "1       Single Adults                      CANADA            Title 8   \n",
       "2       Single Adults  CHINA, PEOPLES REPUBLIC OF            Title 8   \n",
       "3       Single Adults                       OTHER            Title 8   \n",
       "4  Accompanied Minors                      CANADA           Title 42   \n",
       "\n",
       "   Encounter Count  \n",
       "0                3  \n",
       "1                6  \n",
       "2                1  \n",
       "3                2  \n",
       "4                1  "
      ]
     },
     "execution_count": 5,
     "metadata": {},
     "output_type": "execute_result"
    }
   ],
   "source": [
    "state_data.head(5)"
   ]
  },
  {
   "cell_type": "markdown",
   "metadata": {},
   "source": [
    "As expected, our data runs from 2020 to the present day. 2025 (FYTD - Fiscal Year to Date). "
   ]
  },
  {
   "cell_type": "code",
   "execution_count": 6,
   "metadata": {},
   "outputs": [
    {
     "data": {
      "text/plain": [
       "array(['2022', '2023', '2024', '2025 (FYTD)', '2020', '2021'],\n",
       "      dtype=object)"
      ]
     },
     "execution_count": 6,
     "metadata": {},
     "output_type": "execute_result"
    }
   ],
   "source": [
    "state_data['Fiscal Year'].unique() "
   ]
  },
  {
   "cell_type": "code",
   "execution_count": 8,
   "metadata": {},
   "outputs": [
    {
     "data": {
      "text/plain": [
       "array(['FYTD', 'Remaining'], dtype=object)"
      ]
     },
     "execution_count": 8,
     "metadata": {},
     "output_type": "execute_result"
    }
   ],
   "source": [
    "state_data['Month Grouping'].unique()"
   ]
  },
  {
   "cell_type": "code",
   "execution_count": 14,
   "metadata": {},
   "outputs": [
    {
     "data": {
      "text/plain": [
       "48"
      ]
     },
     "execution_count": 14,
     "metadata": {},
     "output_type": "execute_result"
    }
   ],
   "source": [
    "len(state_data['State'].unique())\n"
   ]
  },
  {
   "cell_type": "code",
   "execution_count": 15,
   "metadata": {},
   "outputs": [
    {
     "data": {
      "text/plain": [
       "array(['AK', 'ID', 'ME', 'MI', 'MN', 'MT', 'ND', 'NY', 'OH', 'VT', 'WA',\n",
       "       'AL', 'AZ', 'CA', 'CO', 'CT', 'DC', 'DE', 'FL', 'GA', 'GU', 'HI',\n",
       "       'IL', 'LA', 'MA', 'MD', 'MP', 'MS', 'NC', 'NJ', 'NV', 'OR', 'PA',\n",
       "       'PR', 'RI', 'SC', 'TN', 'TX', 'UT', 'VA', 'VI', 'NM', 'MO', 'NH',\n",
       "       'WI', 'KY', 'IN', 'OK'], dtype=object)"
      ]
     },
     "execution_count": 15,
     "metadata": {},
     "output_type": "execute_result"
    }
   ],
   "source": [
    "state_data['State'].unique()"
   ]
  },
  {
   "cell_type": "code",
   "execution_count": 19,
   "metadata": {},
   "outputs": [],
   "source": [
    "authority_df = state_data[[\"Title of Authority\", \"Encounter Count\"]]"
   ]
  },
  {
   "cell_type": "code",
   "execution_count": 20,
   "metadata": {},
   "outputs": [
    {
     "data": {
      "image/png": "[encoded data removed]",
      "text/plain": [
       "<Figure size 800x500 with 1 Axes>"
      ]
     },
     "metadata": {},
     "output_type": "display_data"
    }
   ],
   "source": [
    "agg_authority = authority_df.groupby(\"Title of Authority\", as_index =False).sum()\n",
    "plt.figure(figsize=(8, 5))\n",
    "plt.bar(agg_authority['Title of Authority'], agg_authority['Encounter Count'], color=['blue', 'red'])\n",
    "plt.xlabel('Title of Authority')\n",
    "plt.ylabel('Total Encounter Count')\n",
    "plt.title('Total Encounter Count by Title of Authority')\n",
    "plt.show()\n"
   ]
  },
  {
   "cell_type": "code",
   "execution_count": 21,
   "metadata": {},
   "outputs": [
    {
     "data": {
      "text/html": [
       "<div>\n",
       "<style scoped>\n",
       "    .dataframe tbody tr th:only-of-type {\n",
       "        vertical-align: middle;\n",
       "    }\n",
       "\n",
       "    .dataframe tbody tr th {\n",
       "        vertical-align: top;\n",
       "    }\n",
       "\n",
       "    .dataframe thead th {\n",
       "        text-align: right;\n",
       "    }\n",
       "</style>\n",
       "<table border=\"1\" class=\"dataframe\">\n",
       "  <thead>\n",
       "    <tr style=\"text-align: right;\">\n",
       "      <th></th>\n",
       "      <th>Title of Authority</th>\n",
       "      <th>Encounter Count</th>\n",
       "    </tr>\n",
       "  </thead>\n",
       "  <tbody>\n",
       "    <tr>\n",
       "      <th>0</th>\n",
       "      <td>Title 42</td>\n",
       "      <td>2960908</td>\n",
       "    </tr>\n",
       "    <tr>\n",
       "      <th>1</th>\n",
       "      <td>Title 8</td>\n",
       "      <td>8904261</td>\n",
       "    </tr>\n",
       "  </tbody>\n",
       "</table>\n",
       "</div>"
      ],
      "text/plain": [
       "  Title of Authority  Encounter Count\n",
       "0           Title 42          2960908\n",
       "1            Title 8          8904261"
      ]
     },
     "execution_count": 21,
     "metadata": {},
     "output_type": "execute_result"
    }
   ],
   "source": [
    "agg_authority"
   ]
  },
  {
   "cell_type": "code",
   "execution_count": null,
   "metadata": {},
   "outputs": [],
   "source": []
  }
 ],
 "metadata": {
  "kernelspec": {
   "display_name": "ML-AI-Courses",
   "language": "python",
   "name": "python3"
  },
  "language_info": {
   "codemirror_mode": {
    "name": "ipython",
    "version": 3
   },
   "file_extension": ".py",
   "mimetype": "text/x-python",
   "name": "python",
   "nbconvert_exporter": "python",
   "pygments_lexer": "ipython3",
   "version": "3.12.7"
  }
 },
 "nbformat": 4,
 "nbformat_minor": 2
}
