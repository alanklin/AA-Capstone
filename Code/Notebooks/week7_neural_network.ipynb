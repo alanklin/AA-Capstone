{
 "cells": [
  {
   "cell_type": "markdown",
   "metadata": {},
   "source": [
    "# Week 7 Deliverable: Continuing Neural Network\n",
    "This week, we will be building on our model building from Week 6, not just improving model performance through hyperparameter tuning but also saving results in a more clean and efficient way. We will also be testing out doing predictions for 6 months rather than 12, so we will be performing "
   ]
  },
  {
   "cell_type": "code",
   "execution_count": 1,
   "metadata": {},
   "outputs": [
    {
     "name": "stdout",
     "output_type": "stream",
     "text": [
      "Installing dependencies from requirements.txt...\n",
      "All dependencies installed successfully.\n"
     ]
    }
   ],
   "source": [
    "from _Setup import *\n",
    "from _Functions import *"
   ]
  },
  {
   "cell_type": "code",
   "execution_count": 4,
   "metadata": {},
   "outputs": [],
   "source": [
    "# Import sector-level data\n",
    "sector_df = pd.read_csv(sector_data_csv_path, low_memory=False)\n",
    "sector_df.replace(to_replace=\"2025 (FYTD)\", value=2025, inplace=True)\n",
    "sector_df.replace(to_replace='2024', value=2024, inplace=True)\n",
    "\n",
    "# Apply the function to create a Year-Date column in fytd_df\n",
    "sector_df['Year-Date'] = sector_df.apply(lambda row: convert_to_fiscal_year_date(row), axis=1)\n",
    "\n",
    "# Convert the new column to datetime format\n",
    "sector_df['Year-Date'] = pd.to_datetime(sector_df['Year-Date'], format='%Y-%m-%d')\n",
    "\n",
    "# Split the data into training and testing sets\n",
    "train_df = sector_df[sector_df['Year-Date'] < '2024-07-01']\n",
    "test_df = sector_df[sector_df['Year-Date'] >= '2024-07-01']\n",
    "\n",
    "# Save the dataframes to csv\n",
    "train_df.to_csv(sector_data_csv_path_train, index=False)\n",
    "test_df.to_csv(sector_data_csv_path_test, index=False)\n",
    "\n",
    "# These columns should be captured in Year-Date and we remove abbreviated columns that are unnecessary.\n",
    "columns_to_remove = [\"Fiscal Year\", \"Month Grouping\", \"Month (abbv)\", \"AOR (Abbv)\"]\n",
    "sector_train_dropped = train_df.drop(columns = columns_to_remove)\n",
    "sector_test_dropped = test_df.drop(columns = columns_to_remove)\n"
   ]
  },
  {
   "cell_type": "code",
   "execution_count": 5,
   "metadata": {},
   "outputs": [],
   "source": [
    "# Aggregating by 'Area of Responsibility' and 'Year-Date'\n",
    "sector_train_aggregated = sector_train_dropped.groupby([\"Area of Responsibility\", \"Year-Date\"], as_index=False).agg({\"Encounter Count\": \"sum\"})\n",
    "sector_train_pivot = sector_train_aggregated.pivot(index = \"Area of Responsibility\", columns = \"Year-Date\", values=\"Encounter Count\")\n",
    "sector_train_pivot = sector_train_pivot.fillna(0)\n",
    "sector_train_pivot.to_csv(sector_data_csv_path_train_pivoted)"
   ]
  },
  {
   "cell_type": "code",
   "execution_count": 6,
   "metadata": {},
   "outputs": [
    {
     "data": {
      "application/vnd.microsoft.datawrangler.viewer.v0+json": {
       "columns": [
        {
         "name": "Area of Responsibility",
         "rawType": "object",
         "type": "string"
        },
        {
         "name": "2024-07-01 00:00:00",
         "rawType": "int64",
         "type": "integer"
        },
        {
         "name": "2024-08-01 00:00:00",
         "rawType": "int64",
         "type": "integer"
        },
        {
         "name": "2024-09-01 00:00:00",
         "rawType": "int64",
         "type": "integer"
        },
        {
         "name": "2024-10-01 00:00:00",
         "rawType": "int64",
         "type": "integer"
        },
        {
         "name": "2024-11-01 00:00:00",
         "rawType": "int64",
         "type": "integer"
        },
        {
         "name": "2024-12-01 00:00:00",
         "rawType": "int64",
         "type": "integer"
        }
       ],
       "conversionMethod": "pd.DataFrame",
       "ref": "06fd3b3c-eb4c-45a1-ad4d-7c24a961ddaa",
       "rows": [
        [
         "Atlanta Field Office",
         "915",
         "869",
         "951",
         "667",
         "484",
         "470"
        ],
        [
         "Baltimore Field Office",
         "1126",
         "1226",
         "1136",
         "1156",
         "1171",
         "950"
        ],
        [
         "Big Bend Sector",
         "214",
         "308",
         "349",
         "291",
         "282",
         "503"
        ],
        [
         "Blaine Sector",
         "99",
         "66",
         "63",
         "69",
         "58",
         "34"
        ],
        [
         "Boston Field Office",
         "3989",
         "3452",
         "3432",
         "2684",
         "2031",
         "2277"
        ]
       ],
       "shape": {
        "columns": 6,
        "rows": 5
       }
      },
      "text/html": [
       "<div>\n",
       "<style scoped>\n",
       "    .dataframe tbody tr th:only-of-type {\n",
       "        vertical-align: middle;\n",
       "    }\n",
       "\n",
       "    .dataframe tbody tr th {\n",
       "        vertical-align: top;\n",
       "    }\n",
       "\n",
       "    .dataframe thead th {\n",
       "        text-align: right;\n",
       "    }\n",
       "</style>\n",
       "<table border=\"1\" class=\"dataframe\">\n",
       "  <thead>\n",
       "    <tr style=\"text-align: right;\">\n",
       "      <th>Year-Date</th>\n",
       "      <th>2024-07-01</th>\n",
       "      <th>2024-08-01</th>\n",
       "      <th>2024-09-01</th>\n",
       "      <th>2024-10-01</th>\n",
       "      <th>2024-11-01</th>\n",
       "      <th>2024-12-01</th>\n",
       "    </tr>\n",
       "    <tr>\n",
       "      <th>Area of Responsibility</th>\n",
       "      <th></th>\n",
       "      <th></th>\n",
       "      <th></th>\n",
       "      <th></th>\n",
       "      <th></th>\n",
       "      <th></th>\n",
       "    </tr>\n",
       "  </thead>\n",
       "  <tbody>\n",
       "    <tr>\n",
       "      <th>Atlanta Field Office</th>\n",
       "      <td>915</td>\n",
       "      <td>869</td>\n",
       "      <td>951</td>\n",
       "      <td>667</td>\n",
       "      <td>484</td>\n",
       "      <td>470</td>\n",
       "    </tr>\n",
       "    <tr>\n",
       "      <th>Baltimore Field Office</th>\n",
       "      <td>1126</td>\n",
       "      <td>1226</td>\n",
       "      <td>1136</td>\n",
       "      <td>1156</td>\n",
       "      <td>1171</td>\n",
       "      <td>950</td>\n",
       "    </tr>\n",
       "    <tr>\n",
       "      <th>Big Bend Sector</th>\n",
       "      <td>214</td>\n",
       "      <td>308</td>\n",
       "      <td>349</td>\n",
       "      <td>291</td>\n",
       "      <td>282</td>\n",
       "      <td>503</td>\n",
       "    </tr>\n",
       "    <tr>\n",
       "      <th>Blaine Sector</th>\n",
       "      <td>99</td>\n",
       "      <td>66</td>\n",
       "      <td>63</td>\n",
       "      <td>69</td>\n",
       "      <td>58</td>\n",
       "      <td>34</td>\n",
       "    </tr>\n",
       "    <tr>\n",
       "      <th>Boston Field Office</th>\n",
       "      <td>3989</td>\n",
       "      <td>3452</td>\n",
       "      <td>3432</td>\n",
       "      <td>2684</td>\n",
       "      <td>2031</td>\n",
       "      <td>2277</td>\n",
       "    </tr>\n",
       "  </tbody>\n",
       "</table>\n",
       "</div>"
      ],
      "text/plain": [
       "Year-Date               2024-07-01  2024-08-01  2024-09-01  2024-10-01  \\\n",
       "Area of Responsibility                                                   \n",
       "Atlanta Field Office           915         869         951         667   \n",
       "Baltimore Field Office        1126        1226        1136        1156   \n",
       "Big Bend Sector                214         308         349         291   \n",
       "Blaine Sector                   99          66          63          69   \n",
       "Boston Field Office           3989        3452        3432        2684   \n",
       "\n",
       "Year-Date               2024-11-01  2024-12-01  \n",
       "Area of Responsibility                          \n",
       "Atlanta Field Office           484         470  \n",
       "Baltimore Field Office        1171         950  \n",
       "Big Bend Sector                282         503  \n",
       "Blaine Sector                   58          34  \n",
       "Boston Field Office           2031        2277  "
      ]
     },
     "execution_count": 6,
     "metadata": {},
     "output_type": "execute_result"
    }
   ],
   "source": [
    "# Aggregating by 'Area of Responsibility' and 'Year-Date'\n",
    "sector_test_aggregated = sector_test_dropped.groupby([\"Area of Responsibility\", \"Year-Date\"], as_index=False).agg({\"Encounter Count\": \"sum\"})\n",
    "sector_test_pivot = sector_test_aggregated.pivot(index = \"Area of Responsibility\", columns = \"Year-Date\", values=\"Encounter Count\")\n",
    "sector_test_pivot = sector_test_pivot.fillna(0)\n",
    "sector_test_pivot.to_csv(sector_data_csv_path_test_pivoted)\n",
    "sector_test_pivot.head()"
   ]
  },
  {
   "cell_type": "code",
   "execution_count": null,
   "metadata": {},
   "outputs": [],
   "source": [
    "# Dictionary to store scalers\n",
    "scalers = {}\n",
    "\n",
    "# Iterate through rows and fit a separate MinMaxScaler for each row\n",
    "for idx, row in sector_train_pivot.iterrows():\n",
    "    scaler = MinMaxScaler()\n",
    "    \n",
    "    # Reshape row into a 2D array with a single column to fit the scaler\n",
    "    row_array = row.to_numpy().reshape(-1, 1)  \n",
    "    tf = scaler.fit_transform(row_array)  # Fit scaler to the row\n",
    "    \n",
    "    # Store the scaler using the row index as the key\n",
    "    scalers[idx] = scaler\n",
    "\n",
    "\n",
    "# Save the list to a .pickle file\n",
    "with open(scalers_file, \"wb\") as file:\n",
    "    pickle.dump(scalers, file)"
   ]
  },
  {
   "cell_type": "code",
   "execution_count": null,
   "metadata": {},
   "outputs": [],
   "source": [
    "\n",
    "sector_train = pd.read_csv(sector_data_csv_path_train_pivoted, index_col='Area of Responsibility')\n",
    "\n",
    "# Ensure scalers work\n",
    "atlanta_scaler_info = scalers['Atlanta Field Office']\n",
    "print(atlanta_scaler_info)\n",
    "\n",
    "# Display the min and max values used for scaling\n",
    "print(\"Min values:\", atlanta_scaler_info.data_min_)\n",
    "print(\"Max values:\", atlanta_scaler_info.data_max_)\n",
    "\n",
    "# Display the feature range\n",
    "print(\"Feature range:\", atlanta_scaler_info.feature_range)\n",
    "\n",
    "# Display the scale and min values used for transformation\n",
    "print(\"Scale:\", atlanta_scaler_info.scale_)\n",
    "print(\"Min:\", atlanta_scaler_info.min_)"
   ]
  },
  {
   "cell_type": "code",
   "execution_count": null,
   "metadata": {},
   "outputs": [],
   "source": [
    "# Create an empty DataFrame to store scaled values\n",
    "sector_train_scaled = pd.DataFrame(index=sector_train.index, columns=sector_train.columns)\n",
    "\n",
    "# Apply each pre-trained scaler row-wise\n",
    "for index, row in sector_train.iterrows():\n",
    "\tscaler = scalers[index]\n",
    "\tscaled_row = scaler.transform(row.values.reshape(-1, 1)).flatten()\n",
    "\tsector_train_scaled.loc[index] = scaled_row"
   ]
  }
 ],
 "metadata": {
  "kernelspec": {
   "display_name": "ML-AI-Courses",
   "language": "python",
   "name": "python3"
  },
  "language_info": {
   "codemirror_mode": {
    "name": "ipython",
    "version": 3
   },
   "file_extension": ".py",
   "mimetype": "text/x-python",
   "name": "python",
   "nbconvert_exporter": "python",
   "pygments_lexer": "ipython3",
   "version": "3.12.7"
  }
 },
 "nbformat": 4,
 "nbformat_minor": 2
}
