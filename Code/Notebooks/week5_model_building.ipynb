{
 "cells": [
  {
   "cell_type": "markdown",
   "metadata": {},
   "source": [
    "# Model Building\n",
    "Build a basic LSTM to predict for calendar year 2024"
   ]
  },
  {
   "cell_type": "code",
   "execution_count": 1,
   "metadata": {},
   "outputs": [
    {
     "name": "stdout",
     "output_type": "stream",
     "text": [
      "Installing dependencies from requirements.txt...\n",
      "All dependencies installed successfully.\n"
     ]
    }
   ],
   "source": [
    "from _Setup import *"
   ]
  },
  {
   "cell_type": "code",
   "execution_count": 2,
   "metadata": {},
   "outputs": [],
   "source": [
    "sector_train = pd.read_csv(sector_train_dropped_csv_path)\n"
   ]
  },
  {
   "cell_type": "code",
   "execution_count": 3,
   "metadata": {},
   "outputs": [
    {
     "data": {
      "text/html": [
       "<div>\n",
       "<style scoped>\n",
       "    .dataframe tbody tr th:only-of-type {\n",
       "        vertical-align: middle;\n",
       "    }\n",
       "\n",
       "    .dataframe tbody tr th {\n",
       "        vertical-align: top;\n",
       "    }\n",
       "\n",
       "    .dataframe thead th {\n",
       "        text-align: right;\n",
       "    }\n",
       "</style>\n",
       "<table border=\"1\" class=\"dataframe\">\n",
       "  <thead>\n",
       "    <tr style=\"text-align: right;\">\n",
       "      <th></th>\n",
       "      <th>Component</th>\n",
       "      <th>Land Border Region</th>\n",
       "      <th>Area of Responsibility</th>\n",
       "      <th>Demographic</th>\n",
       "      <th>Citizenship</th>\n",
       "      <th>Title of Authority</th>\n",
       "      <th>Encounter Type</th>\n",
       "      <th>Encounter Count</th>\n",
       "      <th>Year-Date</th>\n",
       "    </tr>\n",
       "  </thead>\n",
       "  <tbody>\n",
       "    <tr>\n",
       "      <th>0</th>\n",
       "      <td>Office of Field Operations</td>\n",
       "      <td>Northern Land Border</td>\n",
       "      <td>Boston Field Office</td>\n",
       "      <td>FMUA</td>\n",
       "      <td>BRAZIL</td>\n",
       "      <td>Title 8</td>\n",
       "      <td>Inadmissibles</td>\n",
       "      <td>2</td>\n",
       "      <td>2019-10-01</td>\n",
       "    </tr>\n",
       "    <tr>\n",
       "      <th>1</th>\n",
       "      <td>Office of Field Operations</td>\n",
       "      <td>Northern Land Border</td>\n",
       "      <td>Boston Field Office</td>\n",
       "      <td>FMUA</td>\n",
       "      <td>OTHER</td>\n",
       "      <td>Title 8</td>\n",
       "      <td>Inadmissibles</td>\n",
       "      <td>29</td>\n",
       "      <td>2019-10-01</td>\n",
       "    </tr>\n",
       "    <tr>\n",
       "      <th>2</th>\n",
       "      <td>Office of Field Operations</td>\n",
       "      <td>Northern Land Border</td>\n",
       "      <td>Boston Field Office</td>\n",
       "      <td>Single Adults</td>\n",
       "      <td>BRAZIL</td>\n",
       "      <td>Title 8</td>\n",
       "      <td>Inadmissibles</td>\n",
       "      <td>1</td>\n",
       "      <td>2019-10-01</td>\n",
       "    </tr>\n",
       "    <tr>\n",
       "      <th>3</th>\n",
       "      <td>Office of Field Operations</td>\n",
       "      <td>Northern Land Border</td>\n",
       "      <td>Boston Field Office</td>\n",
       "      <td>Single Adults</td>\n",
       "      <td>CANADA</td>\n",
       "      <td>Title 8</td>\n",
       "      <td>Inadmissibles</td>\n",
       "      <td>1031</td>\n",
       "      <td>2019-10-01</td>\n",
       "    </tr>\n",
       "    <tr>\n",
       "      <th>4</th>\n",
       "      <td>Office of Field Operations</td>\n",
       "      <td>Northern Land Border</td>\n",
       "      <td>Boston Field Office</td>\n",
       "      <td>Single Adults</td>\n",
       "      <td>CHINA, PEOPLES REPUBLIC OF</td>\n",
       "      <td>Title 8</td>\n",
       "      <td>Inadmissibles</td>\n",
       "      <td>9</td>\n",
       "      <td>2019-10-01</td>\n",
       "    </tr>\n",
       "  </tbody>\n",
       "</table>\n",
       "</div>"
      ],
      "text/plain": [
       "                    Component    Land Border Region Area of Responsibility  \\\n",
       "0  Office of Field Operations  Northern Land Border    Boston Field Office   \n",
       "1  Office of Field Operations  Northern Land Border    Boston Field Office   \n",
       "2  Office of Field Operations  Northern Land Border    Boston Field Office   \n",
       "3  Office of Field Operations  Northern Land Border    Boston Field Office   \n",
       "4  Office of Field Operations  Northern Land Border    Boston Field Office   \n",
       "\n",
       "     Demographic                 Citizenship Title of Authority  \\\n",
       "0           FMUA                      BRAZIL            Title 8   \n",
       "1           FMUA                       OTHER            Title 8   \n",
       "2  Single Adults                      BRAZIL            Title 8   \n",
       "3  Single Adults                      CANADA            Title 8   \n",
       "4  Single Adults  CHINA, PEOPLES REPUBLIC OF            Title 8   \n",
       "\n",
       "  Encounter Type  Encounter Count   Year-Date  \n",
       "0  Inadmissibles                2  2019-10-01  \n",
       "1  Inadmissibles               29  2019-10-01  \n",
       "2  Inadmissibles                1  2019-10-01  \n",
       "3  Inadmissibles             1031  2019-10-01  \n",
       "4  Inadmissibles                9  2019-10-01  "
      ]
     },
     "execution_count": 3,
     "metadata": {},
     "output_type": "execute_result"
    }
   ],
   "source": [
    "sector_train.head()"
   ]
  }
 ],
 "metadata": {
  "kernelspec": {
   "display_name": "ML-AI-Courses",
   "language": "python",
   "name": "python3"
  },
  "language_info": {
   "codemirror_mode": {
    "name": "ipython",
    "version": 3
   },
   "file_extension": ".py",
   "mimetype": "text/x-python",
   "name": "python",
   "nbconvert_exporter": "python",
   "pygments_lexer": "ipython3",
   "version": "3.12.7"
  }
 },
 "nbformat": 4,
 "nbformat_minor": 2
}
