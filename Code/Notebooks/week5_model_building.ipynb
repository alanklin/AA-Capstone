{
 "cells": [
  {
   "cell_type": "markdown",
   "metadata": {},
   "source": [
    "# Model Building\n",
    "Build a basic LSTM to predict for calendar year 2024"
   ]
  },
  {
   "cell_type": "code",
   "execution_count": 1,
   "metadata": {},
   "outputs": [
    {
     "name": "stdout",
     "output_type": "stream",
     "text": [
      "Installing dependencies from requirements.txt...\n",
      "All dependencies installed successfully.\n"
     ]
    }
   ],
   "source": [
    "from _Setup import *"
   ]
  },
  {
   "cell_type": "code",
   "execution_count": 4,
   "metadata": {},
   "outputs": [
    {
     "data": {
      "application/vnd.microsoft.datawrangler.viewer.v0+json": {
       "columns": [
        {
         "name": "index",
         "rawType": "int64",
         "type": "integer"
        },
        {
         "name": "Component",
         "rawType": "object",
         "type": "string"
        },
        {
         "name": "Land Border Region",
         "rawType": "object",
         "type": "string"
        },
        {
         "name": "Area of Responsibility",
         "rawType": "object",
         "type": "string"
        },
        {
         "name": "Demographic",
         "rawType": "object",
         "type": "string"
        },
        {
         "name": "Citizenship",
         "rawType": "object",
         "type": "string"
        },
        {
         "name": "Title of Authority",
         "rawType": "object",
         "type": "string"
        },
        {
         "name": "Encounter Type",
         "rawType": "object",
         "type": "string"
        },
        {
         "name": "Encounter Count",
         "rawType": "int64",
         "type": "integer"
        },
        {
         "name": "Year-Date",
         "rawType": "object",
         "type": "string"
        }
       ],
       "conversionMethod": "pd.DataFrame",
       "ref": "f02a189b-ef22-42ae-8957-ae3488cda387",
       "rows": [
        [
         "0",
         "Office of Field Operations",
         "Northern Land Border",
         "Boston Field Office",
         "FMUA",
         "BRAZIL",
         "Title 8",
         "Inadmissibles",
         "2",
         "2019-10-01"
        ],
        [
         "1",
         "Office of Field Operations",
         "Northern Land Border",
         "Boston Field Office",
         "FMUA",
         "OTHER",
         "Title 8",
         "Inadmissibles",
         "29",
         "2019-10-01"
        ],
        [
         "2",
         "Office of Field Operations",
         "Northern Land Border",
         "Boston Field Office",
         "Single Adults",
         "BRAZIL",
         "Title 8",
         "Inadmissibles",
         "1",
         "2019-10-01"
        ],
        [
         "3",
         "Office of Field Operations",
         "Northern Land Border",
         "Boston Field Office",
         "Single Adults",
         "CANADA",
         "Title 8",
         "Inadmissibles",
         "1031",
         "2019-10-01"
        ],
        [
         "4",
         "Office of Field Operations",
         "Northern Land Border",
         "Boston Field Office",
         "Single Adults",
         "CHINA, PEOPLES REPUBLIC OF",
         "Title 8",
         "Inadmissibles",
         "9",
         "2019-10-01"
        ]
       ],
       "shape": {
        "columns": 9,
        "rows": 5
       }
      },
      "text/html": [
       "<div>\n",
       "<style scoped>\n",
       "    .dataframe tbody tr th:only-of-type {\n",
       "        vertical-align: middle;\n",
       "    }\n",
       "\n",
       "    .dataframe tbody tr th {\n",
       "        vertical-align: top;\n",
       "    }\n",
       "\n",
       "    .dataframe thead th {\n",
       "        text-align: right;\n",
       "    }\n",
       "</style>\n",
       "<table border=\"1\" class=\"dataframe\">\n",
       "  <thead>\n",
       "    <tr style=\"text-align: right;\">\n",
       "      <th></th>\n",
       "      <th>Area of Responsibility</th>\n",
       "      <th>2019-10-01</th>\n",
       "      <th>2019-11-01</th>\n",
       "      <th>2019-12-01</th>\n",
       "      <th>2020-01-01</th>\n",
       "      <th>2020-02-01</th>\n",
       "      <th>2020-03-01</th>\n",
       "      <th>2020-04-01</th>\n",
       "      <th>2020-05-01</th>\n",
       "      <th>2020-06-01</th>\n",
       "      <th>...</th>\n",
       "      <th>2023-03-01</th>\n",
       "      <th>2023-04-01</th>\n",
       "      <th>2023-05-01</th>\n",
       "      <th>2023-06-01</th>\n",
       "      <th>2023-07-01</th>\n",
       "      <th>2023-08-01</th>\n",
       "      <th>2023-09-01</th>\n",
       "      <th>2023-10-01</th>\n",
       "      <th>2023-11-01</th>\n",
       "      <th>2023-12-01</th>\n",
       "    </tr>\n",
       "  </thead>\n",
       "  <tbody>\n",
       "    <tr>\n",
       "      <th>0</th>\n",
       "      <td>Atlanta Field Office</td>\n",
       "      <td>1022.0</td>\n",
       "      <td>762.0</td>\n",
       "      <td>564.0</td>\n",
       "      <td>527.0</td>\n",
       "      <td>521.0</td>\n",
       "      <td>847.0</td>\n",
       "      <td>1037.0</td>\n",
       "      <td>2141.0</td>\n",
       "      <td>1532.0</td>\n",
       "      <td>...</td>\n",
       "      <td>1102.0</td>\n",
       "      <td>1206.0</td>\n",
       "      <td>1260.0</td>\n",
       "      <td>1280.0</td>\n",
       "      <td>899.0</td>\n",
       "      <td>1012.0</td>\n",
       "      <td>1150.0</td>\n",
       "      <td>917.0</td>\n",
       "      <td>1172.0</td>\n",
       "      <td>987.0</td>\n",
       "    </tr>\n",
       "    <tr>\n",
       "      <th>1</th>\n",
       "      <td>Baltimore Field Office</td>\n",
       "      <td>443.0</td>\n",
       "      <td>550.0</td>\n",
       "      <td>658.0</td>\n",
       "      <td>698.0</td>\n",
       "      <td>660.0</td>\n",
       "      <td>367.0</td>\n",
       "      <td>85.0</td>\n",
       "      <td>177.0</td>\n",
       "      <td>150.0</td>\n",
       "      <td>...</td>\n",
       "      <td>1599.0</td>\n",
       "      <td>1614.0</td>\n",
       "      <td>1764.0</td>\n",
       "      <td>1609.0</td>\n",
       "      <td>1304.0</td>\n",
       "      <td>1711.0</td>\n",
       "      <td>1748.0</td>\n",
       "      <td>1591.0</td>\n",
       "      <td>1521.0</td>\n",
       "      <td>1539.0</td>\n",
       "    </tr>\n",
       "    <tr>\n",
       "      <th>2</th>\n",
       "      <td>Big Bend Sector</td>\n",
       "      <td>653.0</td>\n",
       "      <td>526.0</td>\n",
       "      <td>543.0</td>\n",
       "      <td>604.0</td>\n",
       "      <td>562.0</td>\n",
       "      <td>675.0</td>\n",
       "      <td>507.0</td>\n",
       "      <td>628.0</td>\n",
       "      <td>660.0</td>\n",
       "      <td>...</td>\n",
       "      <td>1200.0</td>\n",
       "      <td>1181.0</td>\n",
       "      <td>1421.0</td>\n",
       "      <td>412.0</td>\n",
       "      <td>404.0</td>\n",
       "      <td>568.0</td>\n",
       "      <td>560.0</td>\n",
       "      <td>479.0</td>\n",
       "      <td>426.0</td>\n",
       "      <td>322.0</td>\n",
       "    </tr>\n",
       "    <tr>\n",
       "      <th>3</th>\n",
       "      <td>Blaine Sector</td>\n",
       "      <td>32.0</td>\n",
       "      <td>24.0</td>\n",
       "      <td>36.0</td>\n",
       "      <td>25.0</td>\n",
       "      <td>27.0</td>\n",
       "      <td>16.0</td>\n",
       "      <td>6.0</td>\n",
       "      <td>13.0</td>\n",
       "      <td>5.0</td>\n",
       "      <td>...</td>\n",
       "      <td>110.0</td>\n",
       "      <td>174.0</td>\n",
       "      <td>115.0</td>\n",
       "      <td>118.0</td>\n",
       "      <td>158.0</td>\n",
       "      <td>188.0</td>\n",
       "      <td>218.0</td>\n",
       "      <td>229.0</td>\n",
       "      <td>198.0</td>\n",
       "      <td>291.0</td>\n",
       "    </tr>\n",
       "    <tr>\n",
       "      <th>4</th>\n",
       "      <td>Boston Field Office</td>\n",
       "      <td>Single Adults</td>\n",
       "      <td>CHINA, PEOPLES REPUBLIC OF</td>\n",
       "      <td>Title 8</td>\n",
       "      <td>Inadmissibles</td>\n",
       "      <td>9</td>\n",
       "      <td>2019-10-01</td>\n",
       "    </tr>\n",
       "  </tbody>\n",
       "</table>\n",
       "</div>"
      ],
      "text/plain": [
       "                    Component    Land Border Region Area of Responsibility  \\\n",
       "0  Office of Field Operations  Northern Land Border    Boston Field Office   \n",
       "1  Office of Field Operations  Northern Land Border    Boston Field Office   \n",
       "2  Office of Field Operations  Northern Land Border    Boston Field Office   \n",
       "3  Office of Field Operations  Northern Land Border    Boston Field Office   \n",
       "4  Office of Field Operations  Northern Land Border    Boston Field Office   \n",
       "\n",
       "     Demographic                 Citizenship Title of Authority  \\\n",
       "0           FMUA                      BRAZIL            Title 8   \n",
       "1           FMUA                       OTHER            Title 8   \n",
       "2  Single Adults                      BRAZIL            Title 8   \n",
       "3  Single Adults                      CANADA            Title 8   \n",
       "4  Single Adults  CHINA, PEOPLES REPUBLIC OF            Title 8   \n",
       "\n",
       "  Encounter Type  Encounter Count   Year-Date  \n",
       "0  Inadmissibles                2  2019-10-01  \n",
       "1  Inadmissibles               29  2019-10-01  \n",
       "2  Inadmissibles                1  2019-10-01  \n",
       "3  Inadmissibles             1031  2019-10-01  \n",
       "4  Inadmissibles                9  2019-10-01  "
      ]
     },
     "execution_count": 4,
     "metadata": {},
     "output_type": "execute_result"
    }
   ],
   "source": [
    "sector_train = pd.read_csv(sector_train_input_ready)\n",
    "sector_train.head()"
    
   ]
  },
  {
   "cell_type": "code",
   "execution_count": null,
   "metadata": {},
   "outputs": [],
   "source": []
  }
 ],
 "metadata": {
  "kernelspec": {
   "display_name": "capstone",
   "language": "python",
   "name": "python3"
  },
  "language_info": {
   "codemirror_mode": {
    "name": "ipython",
    "version": 3
   },
   "file_extension": ".py",
   "mimetype": "text/x-python",
   "name": "python",
   "nbconvert_exporter": "python",
   "pygments_lexer": "ipython3",
   "version": "3.12.3"
  }
 },
 "nbformat": 4,
 "nbformat_minor": 2
}
