{
 "cells": [
  {
   "cell_type": "markdown",
   "metadata": {},
   "source": [
    "# Week 6 Deliverable: Neural Network\n",
    "The purpose of this is to create and implement a Neural Network modeling approach, including training and validation of the model. "
   ]
  },
  {
   "cell_type": "code",
   "execution_count": null,
   "metadata": {},
   "outputs": [
    {
     "name": "stdout",
     "output_type": "stream",
     "text": [
      "Installing dependencies from requirements.txt...\n",
      "All dependencies installed successfully.\n"
     ]
    }
   ],
   "source": [
    "from _Setup import *\n",
    "from _Functions import *"
   ]
  },
  {
   "cell_type": "markdown",
   "metadata": {},
   "source": [
    "## TODO : Split data using Time Series Cross Validation\n",
    "This step shall be performed as it was depicted in the Week 1 Report and in the Hyndman book"
   ]
  },
  {
   "cell_type": "code",
   "execution_count": 2,
   "metadata": {},
   "outputs": [],
   "source": [
    "# Load data as csv\n",
    "sector_train = pd.read_csv(sector_data_csv_path_train_pivoted, index_col='Area of Responsibility')\n",
    "\n",
    "# Import the scaler\n",
    "with open(scalers_file, \"rb\") as file:\n",
    "    scalers = pickle.load(file)\n",
    "\n",
    "# DONE : Create scaled version of original Dataframe\n",
    "# Apply pre-trained scalers row-wise\n",
    "\n",
    "# Create an empty DataFrame to store scaled values\n",
    "sector_train_scaled = pd.DataFrame(index=sector_train.index, columns=sector_train.columns)\n",
    "\n",
    "# Apply each pre-trained scaler row-wise\n",
    "for index, row in sector_train.iterrows():\n",
    "\tscaler = scalers[index]\n",
    "\tscaled_row = scaler.transform(row.values.reshape(-1, 1)).flatten()\n",
    "\tsector_train_scaled.loc[index] = scaled_row"
   ]
  },
  {
   "cell_type": "code",
   "execution_count": null,
   "metadata": {},
   "outputs": [],
   "source": [
    "# DONE : Create a process to windowize the data for cross-validation split\n",
    "def validation_split(data, train_size = 12, validation_size = 12):\n",
    "    \"\"\"Input : Dataframe , Output : Array of Input\"\"\"\n",
    "    \"\"\"TODO : This may need to be converted to tensors\"\"\"\n",
    "\n",
    "    train_input, validation_input = [], []\n",
    "\n",
    "    for index, row in data.iterrows():\n",
    "        split_index = train_size\n",
    "\n",
    "        start = split_index - train_size\n",
    "        end = split_index + validation_size\n",
    "\n",
    "        train_set, validation_set = [], []\n",
    "\n",
    "        while end <= len(row):\n",
    "            train = row[start:split_index]\n",
    "            val = row[split_index:end]\n",
    "\n",
    "            train_set.append(train.values)\n",
    "            validation_set.append(val.values)\n",
    "\n",
    "            split_index += 1\n",
    "            start = split_index - train_size\n",
    "            end = split_index + validation_size\n",
    "\n",
    "        train_input.append(train_set)\n",
    "        validation_input.append(validation_set)\n",
    "\n",
    "    return train_input, validation_input"
   ]
  },
  {
   "cell_type": "code",
   "execution_count": 20,
   "metadata": {},
   "outputs": [],
   "source": [
    "input_size = 12\n",
    "train_data, val_data = validation_split(sector_train_scaled, train_size=input_size)"
   ]
  },
  {
   "cell_type": "code",
   "execution_count": null,
   "metadata": {},
   "outputs": [],
   "source": [
    "# from tensorflow.keras.models import Sequential\n",
    "# from tensorflow.keras.layers import Dense\n",
    "# \n",
    "# nn_model = Sequential()\n",
    "# nn_model.add(Dense(units))"
   ]
  },
  {
   "cell_type": "code",
   "execution_count": null,
   "metadata": {},
   "outputs": [],
   "source": []
  }
 ],
 "metadata": {
  "kernelspec": {
   "display_name": "capstone",
   "language": "python",
   "name": "python3"
  },
  "language_info": {
   "codemirror_mode": {
    "name": "ipython",
    "version": 3
   },
   "file_extension": ".py",
   "mimetype": "text/x-python",
   "name": "python",
   "nbconvert_exporter": "python",
   "pygments_lexer": "ipython3",
   "version": "3.12.3"
  }
 },
 "nbformat": 4,
 "nbformat_minor": 2
}
