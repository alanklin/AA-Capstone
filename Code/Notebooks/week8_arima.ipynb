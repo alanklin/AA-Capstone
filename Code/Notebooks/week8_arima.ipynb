{
 "cells": [
  {
   "cell_type": "code",
   "execution_count": 2,
   "metadata": {},
   "outputs": [
    {
     "name": "stdout",
     "output_type": "stream",
     "text": [
      "Installing dependencies from requirements.txt...\n",
      "All dependencies installed successfully.\n"
     ]
    }
   ],
   "source": [
    "from _Setup import *\n",
    "from _Functions import *"
   ]
  },
  {
   "cell_type": "code",
   "execution_count": 3,
   "metadata": {},
   "outputs": [
    {
     "data": {
      "application/vnd.microsoft.datawrangler.viewer.v0+json": {
       "columns": [
        {
         "name": "Area of Responsibility",
         "rawType": "object",
         "type": "string"
        },
        {
         "name": "2019-10-01",
         "rawType": "object",
         "type": "unknown"
        },
        {
         "name": "2019-11-01",
         "rawType": "object",
         "type": "unknown"
        },
        {
         "name": "2019-12-01",
         "rawType": "object",
         "type": "unknown"
        },
        {
         "name": "2020-01-01",
         "rawType": "object",
         "type": "unknown"
        },
        {
         "name": "2020-02-01",
         "rawType": "object",
         "type": "unknown"
        },
        {
         "name": "2020-03-01",
         "rawType": "object",
         "type": "unknown"
        },
        {
         "name": "2020-04-01",
         "rawType": "object",
         "type": "unknown"
        },
        {
         "name": "2020-05-01",
         "rawType": "object",
         "type": "unknown"
        },
        {
         "name": "2020-06-01",
         "rawType": "object",
         "type": "unknown"
        },
        {
         "name": "2020-07-01",
         "rawType": "object",
         "type": "unknown"
        },
        {
         "name": "2020-08-01",
         "rawType": "object",
         "type": "unknown"
        },
        {
         "name": "2020-09-01",
         "rawType": "object",
         "type": "unknown"
        },
        {
         "name": "2020-10-01",
         "rawType": "object",
         "type": "unknown"
        },
        {
         "name": "2020-11-01",
         "rawType": "object",
         "type": "unknown"
        },
        {
         "name": "2020-12-01",
         "rawType": "object",
         "type": "unknown"
        },
        {
         "name": "2021-01-01",
         "rawType": "object",
         "type": "unknown"
        },
        {
         "name": "2021-02-01",
         "rawType": "object",
         "type": "unknown"
        },
        {
         "name": "2021-03-01",
         "rawType": "object",
         "type": "unknown"
        },
        {
         "name": "2021-04-01",
         "rawType": "object",
         "type": "unknown"
        },
        {
         "name": "2021-05-01",
         "rawType": "object",
         "type": "unknown"
        },
        {
         "name": "2021-06-01",
         "rawType": "object",
         "type": "unknown"
        },
        {
         "name": "2021-07-01",
         "rawType": "object",
         "type": "unknown"
        },
        {
         "name": "2021-08-01",
         "rawType": "object",
         "type": "unknown"
        },
        {
         "name": "2021-09-01",
         "rawType": "object",
         "type": "unknown"
        },
        {
         "name": "2021-10-01",
         "rawType": "object",
         "type": "unknown"
        },
        {
         "name": "2021-11-01",
         "rawType": "object",
         "type": "unknown"
        },
        {
         "name": "2021-12-01",
         "rawType": "object",
         "type": "unknown"
        },
        {
         "name": "2022-01-01",
         "rawType": "object",
         "type": "unknown"
        },
        {
         "name": "2022-02-01",
         "rawType": "object",
         "type": "unknown"
        },
        {
         "name": "2022-03-01",
         "rawType": "object",
         "type": "unknown"
        },
        {
         "name": "2022-04-01",
         "rawType": "object",
         "type": "unknown"
        },
        {
         "name": "2022-05-01",
         "rawType": "object",
         "type": "unknown"
        },
        {
         "name": "2022-06-01",
         "rawType": "object",
         "type": "unknown"
        },
        {
         "name": "2022-07-01",
         "rawType": "object",
         "type": "unknown"
        },
        {
         "name": "2022-08-01",
         "rawType": "object",
         "type": "unknown"
        },
        {
         "name": "2022-09-01",
         "rawType": "object",
         "type": "unknown"
        },
        {
         "name": "2022-10-01",
         "rawType": "object",
         "type": "unknown"
        },
        {
         "name": "2022-11-01",
         "rawType": "object",
         "type": "unknown"
        },
        {
         "name": "2022-12-01",
         "rawType": "object",
         "type": "unknown"
        },
        {
         "name": "2023-01-01",
         "rawType": "object",
         "type": "unknown"
        },
        {
         "name": "2023-02-01",
         "rawType": "object",
         "type": "unknown"
        },
        {
         "name": "2023-03-01",
         "rawType": "object",
         "type": "unknown"
        },
        {
         "name": "2023-04-01",
         "rawType": "object",
         "type": "unknown"
        },
        {
         "name": "2023-05-01",
         "rawType": "object",
         "type": "unknown"
        },
        {
         "name": "2023-06-01",
         "rawType": "object",
         "type": "unknown"
        },
        {
         "name": "2023-07-01",
         "rawType": "object",
         "type": "unknown"
        },
        {
         "name": "2023-08-01",
         "rawType": "object",
         "type": "unknown"
        },
        {
         "name": "2023-09-01",
         "rawType": "object",
         "type": "unknown"
        },
        {
         "name": "2023-10-01",
         "rawType": "object",
         "type": "unknown"
        },
        {
         "name": "2023-11-01",
         "rawType": "object",
         "type": "unknown"
        },
        {
         "name": "2023-12-01",
         "rawType": "object",
         "type": "unknown"
        },
        {
         "name": "2024-01-01",
         "rawType": "object",
         "type": "unknown"
        },
        {
         "name": "2024-02-01",
         "rawType": "object",
         "type": "unknown"
        },
        {
         "name": "2024-03-01",
         "rawType": "object",
         "type": "unknown"
        },
        {
         "name": "2024-04-01",
         "rawType": "object",
         "type": "unknown"
        },
        {
         "name": "2024-05-01",
         "rawType": "object",
         "type": "unknown"
        },
        {
         "name": "2024-06-01",
         "rawType": "object",
         "type": "unknown"
        }
       ],
       "conversionMethod": "pd.DataFrame",
       "ref": "5f2d9330-6af6-4095-b6bd-a41785adfe4b",
       "rows": [
        [
         "Atlanta Field Office",
         "0.3092592592592593",
         "0.14876543209876547",
         "0.02654320987654324",
         "0.003703703703703709",
         "0.0",
         "0.20123456790123456",
         "0.3185185185185185",
         "1.0",
         "0.624074074074074",
         "0.5598765432098765",
         "0.37160493827160496",
         "0.29938271604938277",
         "0.24506172839506174",
         "0.21049382716049386",
         "0.35555555555555557",
         "0.2444444444444444",
         "0.31111111111111117",
         "0.3635802469135802",
         "0.4425925925925926",
         "0.39999999999999997",
         "0.26851851851851855",
         "0.33827160493827163",
         "0.4469135802469136",
         "0.47901234567901235",
         "0.4734567901234568",
         "0.4339506172839506",
         "0.4104938271604938",
         "0.6049382716049383",
         "0.18024691358024697",
         "0.35555555555555557",
         "0.22901234567901235",
         "0.45123456790123456",
         "0.7240740740740741",
         "0.4567901234567901",
         "0.7839506172839508",
         "0.6981481481481482",
         "0.5728395061728395",
         "0.8024691358024691",
         "0.47160493827160493",
         "0.4333333333333333",
         "0.30123456790123454",
         "0.358641975308642",
         "0.42283950617283955",
         "0.4561728395061729",
         "0.4685185185185185",
         "0.23333333333333334",
         "0.3030864197530864",
         "0.38827160493827156",
         "0.2444444444444444",
         "0.40185185185185185",
         "0.28765432098765437",
         "0.34074074074074073",
         "0.267283950617284",
         "0.32901234567901233",
         "0.32469135802469135",
         "0.34074074074074073",
         "0.30123456790123454"
        ],
        [
         "Baltimore Field Office",
         "0.20237422272470323",
         "0.26286037309214244",
         "0.323911814584511",
         "0.34652345958168457",
         "0.3250423968343697",
         "0.15941209723007346",
         "0.0",
         "0.052006783493499145",
         "0.036743923120407",
         "0.01752402487280949",
         "0.02430751837196156",
         "0.11079706048615037",
         "0.22837761447145277",
         "0.2317693612210288",
         "0.24420576596947424",
         "0.2594686263425664",
         "0.36404748445449403",
         "0.5336348219332956",
         "0.4918032786885246",
         "0.5517241379310345",
         "0.5443753533069531",
         "0.5330695308083663",
         "0.9485585076314301",
         "0.8304126625211984",
         "0.6551724137931034",
         "0.6088185415488976",
         "0.5472018089315998",
         "0.7755794234030525",
         "0.7167891464104013",
         "0.6704352741661955",
         "0.5720746184284906",
         "0.5087620124364047",
         "0.7659694742792538",
         "0.5816845675522894",
         "0.7998869417750141",
         "0.7789711701526285",
         "0.6088185415488976",
         "0.6721311475409836",
         "0.8490672696438666",
         "0.9044657998869418",
         "0.9999999999999999",
         "0.8558507631430186",
         "0.8643301300169587",
         "0.9491237987563594",
         "0.861503674392312",
         "0.6890898812888637",
         "0.9191633691351045",
         "0.94007914075749",
         "0.8513284341435838",
         "0.8117580553985302",
         "0.8219332956472583",
         "0.836630864895421",
         "0.8485019785189372",
         "0.7659694742792538",
         "0.681175805539853",
         "0.6602600339174675",
         "0.7478801582815149"
        ],
        [
         "Big Bend Sector",
         "0.09058945191313339",
         "0.0643226473629783",
         "0.06783867631851087",
         "0.08045501551189246",
         "0.07176835573940021",
         "0.0951396070320579",
         "0.06039296794208893",
         "0.08541882109617371",
         "0.0920372285418821",
         "0.10982419855222336",
         "0.18717683557394002",
         "0.24591520165460184",
         "0.2701137538779731",
         "0.2907962771458118",
         "0.3650465356773526",
         "0.5075491209927612",
         "0.5958634953464323",
         "0.8862461220268874",
         "0.9044467425025854",
         "1.0",
         "0.8974146845915202",
         "0.6655635987590486",
         "0.30299896587383657",
         "0.48790072388831435",
         "0.7013443640124095",
         "0.6397104446742503",
         "0.6608066184074457",
         "0.44756980351602893",
         "0.5774560496380559",
         "0.7135470527404344",
         "0.6552223371251293",
         "0.5511892450879008",
         "0.37414684591520164",
         "0.290382626680455",
         "0.2450879007238883",
         "0.21758014477766285",
         "0.2252326783867632",
         "0.2705274043433299",
         "0.20165460186142709",
         "0.17869700103412614",
         "0.15842812823164426",
         "0.20372285418821096",
         "0.1997931747673216",
         "0.24943123061013445",
         "0.04074457083764219",
         "0.039089968976215105",
         "0.07300930713547052",
         "0.07135470527404345",
         "0.054601861427094105",
         "0.043640124095139614",
         "0.022130299896587387",
         "0.022543950361944155",
         "0.07300930713547052",
         "0.04570837642192347",
         "0.06494312306101344",
         "0.1108583247156153",
         "0.0"
        ],
        [
         "Blaine Sector",
         "0.09146341463414634",
         "0.06707317073170732",
         "0.10365853658536585",
         "0.07012195121951219",
         "0.07621951219512195",
         "0.042682926829268296",
         "0.012195121951219514",
         "0.03353658536585366",
         "0.009146341463414634",
         "0.039634146341463415",
         "0.027439024390243906",
         "0.04573170731707318",
         "0.021341463414634144",
         "0.0",
         "0.009146341463414634",
         "0.027439024390243906",
         "0.021341463414634144",
         "0.03353658536585366",
         "0.03353658536585366",
         "0.030487804878048787",
         "0.015243902439024392",
         "0.003048780487804879",
         "0.01829268292682927",
         "0.054878048780487805",
         "0.054878048780487805",
         "0.042682926829268296",
         "0.057926829268292686",
         "0.07317073170731707",
         "0.03658536585365854",
         "0.06402439024390244",
         "0.12195121951219512",
         "0.1798780487804878",
         "0.1798780487804878",
         "0.10670731707317073",
         "0.07621951219512195",
         "0.17378048780487804",
         "0.23780487804878048",
         "0.27134146341463417",
         "0.14329268292682926",
         "0.3170731707317073",
         "0.24390243902439024",
         "0.32926829268292684",
         "0.524390243902439",
         "0.34451219512195125",
         "0.35365853658536583",
         "0.475609756097561",
         "0.5670731707317074",
         "0.6585365853658537",
         "0.6920731707317074",
         "0.5975609756097561",
         "0.8810975609756098",
         "0.6737804878048781",
         "0.7103658536585366",
         "0.6829268292682927",
         "1.0",
         "0.8048780487804879",
         "0.5457317073170732"
        ],
        [
         "Boston Field Office",
         "0.24284679463962333",
         "0.1714958348424484",
         "0.27236508511408913",
         "0.16226005070626587",
         "0.23469757334299168",
         "0.1008692502716407",
         "0.04310032596885187",
         "0.0",
         "0.04074610648315828",
         "0.027888446215139445",
         "0.2261861644331764",
         "0.04020282506338283",
         "0.22256428830134012",
         "0.14125316914161537",
         "0.19431365447301704",
         "0.023542194856935893",
         "0.12604128938790293",
         "0.18199927562477364",
         "0.03802969938428106",
         "0.0621151756609924",
         "0.10123143788482433",
         "0.2249185077870337",
         "0.28413618254255707",
         "0.2102499094530967",
         "0.25335023542194857",
         "0.18218036943136545",
         "0.33122057225642887",
         "0.48659905831220573",
         "0.2350597609561753",
         "0.20735240854762768",
         "0.29156102861282146",
         "0.28160086925027167",
         "0.3480622962694676",
         "0.47428467946396236",
         "0.5124954726548352",
         "0.464867801521188",
         "0.5948931546541109",
         "0.4875045273451648",
         "0.5932633103947845",
         "0.5543281419775444",
         "0.4927562477363274",
         "0.7459253893516842",
         "0.5543281419775444",
         "0.6336472292647591",
         "0.715863817457443",
         "0.8018833755885549",
         "0.9262948207171315",
         "1.0",
         "0.614270191959435",
         "0.5787758058674394",
         "0.7573342991669685",
         "0.8065918145599421",
         "0.6441506700470844",
         "0.8478812024628758",
         "0.885729808040565",
         "0.8611010503440782",
         "0.807678377399493"
        ]
       ],
       "shape": {
        "columns": 57,
        "rows": 5
       }
      },
      "text/html": [
       "<div>\n",
       "<style scoped>\n",
       "    .dataframe tbody tr th:only-of-type {\n",
       "        vertical-align: middle;\n",
       "    }\n",
       "\n",
       "    .dataframe tbody tr th {\n",
       "        vertical-align: top;\n",
       "    }\n",
       "\n",
       "    .dataframe thead th {\n",
       "        text-align: right;\n",
       "    }\n",
       "</style>\n",
       "<table border=\"1\" class=\"dataframe\">\n",
       "  <thead>\n",
       "    <tr style=\"text-align: right;\">\n",
       "      <th></th>\n",
       "      <th>2019-10-01</th>\n",
       "      <th>2019-11-01</th>\n",
       "      <th>2019-12-01</th>\n",
       "      <th>2020-01-01</th>\n",
       "      <th>2020-02-01</th>\n",
       "      <th>2020-03-01</th>\n",
       "      <th>2020-04-01</th>\n",
       "      <th>2020-05-01</th>\n",
       "      <th>2020-06-01</th>\n",
       "      <th>2020-07-01</th>\n",
       "      <th>...</th>\n",
       "      <th>2023-09-01</th>\n",
       "      <th>2023-10-01</th>\n",
       "      <th>2023-11-01</th>\n",
       "      <th>2023-12-01</th>\n",
       "      <th>2024-01-01</th>\n",
       "      <th>2024-02-01</th>\n",
       "      <th>2024-03-01</th>\n",
       "      <th>2024-04-01</th>\n",
       "      <th>2024-05-01</th>\n",
       "      <th>2024-06-01</th>\n",
       "    </tr>\n",
       "    <tr>\n",
       "      <th>Area of Responsibility</th>\n",
       "      <th></th>\n",
       "      <th></th>\n",
       "      <th></th>\n",
       "      <th></th>\n",
       "      <th></th>\n",
       "      <th></th>\n",
       "      <th></th>\n",
       "      <th></th>\n",
       "      <th></th>\n",
       "      <th></th>\n",
       "      <th></th>\n",
       "      <th></th>\n",
       "      <th></th>\n",
       "      <th></th>\n",
       "      <th></th>\n",
       "      <th></th>\n",
       "      <th></th>\n",
       "      <th></th>\n",
       "      <th></th>\n",
       "      <th></th>\n",
       "      <th></th>\n",
       "    </tr>\n",
       "  </thead>\n",
       "  <tbody>\n",
       "    <tr>\n",
       "      <th>Atlanta Field Office</th>\n",
       "      <td>0.309259</td>\n",
       "      <td>0.148765</td>\n",
       "      <td>0.026543</td>\n",
       "      <td>0.003704</td>\n",
       "      <td>0.0</td>\n",
       "      <td>0.201235</td>\n",
       "      <td>0.318519</td>\n",
       "      <td>1.0</td>\n",
       "      <td>0.624074</td>\n",
       "      <td>0.559877</td>\n",
       "      <td>...</td>\n",
       "      <td>0.388272</td>\n",
       "      <td>0.244444</td>\n",
       "      <td>0.401852</td>\n",
       "      <td>0.287654</td>\n",
       "      <td>0.340741</td>\n",
       "      <td>0.267284</td>\n",
       "      <td>0.329012</td>\n",
       "      <td>0.324691</td>\n",
       "      <td>0.340741</td>\n",
       "      <td>0.301235</td>\n",
       "    </tr>\n",
       "    <tr>\n",
       "      <th>Baltimore Field Office</th>\n",
       "      <td>0.202374</td>\n",
       "      <td>0.26286</td>\n",
       "      <td>0.323912</td>\n",
       "      <td>0.346523</td>\n",
       "      <td>0.325042</td>\n",
       "      <td>0.159412</td>\n",
       "      <td>0.0</td>\n",
       "      <td>0.052007</td>\n",
       "      <td>0.036744</td>\n",
       "      <td>0.017524</td>\n",
       "      <td>...</td>\n",
       "      <td>0.940079</td>\n",
       "      <td>0.851328</td>\n",
       "      <td>0.811758</td>\n",
       "      <td>0.821933</td>\n",
       "      <td>0.836631</td>\n",
       "      <td>0.848502</td>\n",
       "      <td>0.765969</td>\n",
       "      <td>0.681176</td>\n",
       "      <td>0.66026</td>\n",
       "      <td>0.74788</td>\n",
       "    </tr>\n",
       "    <tr>\n",
       "      <th>Big Bend Sector</th>\n",
       "      <td>0.090589</td>\n",
       "      <td>0.064323</td>\n",
       "      <td>0.067839</td>\n",
       "      <td>0.080455</td>\n",
       "      <td>0.071768</td>\n",
       "      <td>0.09514</td>\n",
       "      <td>0.060393</td>\n",
       "      <td>0.085419</td>\n",
       "      <td>0.092037</td>\n",
       "      <td>0.109824</td>\n",
       "      <td>...</td>\n",
       "      <td>0.071355</td>\n",
       "      <td>0.054602</td>\n",
       "      <td>0.04364</td>\n",
       "      <td>0.02213</td>\n",
       "      <td>0.022544</td>\n",
       "      <td>0.073009</td>\n",
       "      <td>0.045708</td>\n",
       "      <td>0.064943</td>\n",
       "      <td>0.110858</td>\n",
       "      <td>0.0</td>\n",
       "    </tr>\n",
       "    <tr>\n",
       "      <th>Blaine Sector</th>\n",
       "      <td>0.091463</td>\n",
       "      <td>0.067073</td>\n",
       "      <td>0.103659</td>\n",
       "      <td>0.070122</td>\n",
       "      <td>0.07622</td>\n",
       "      <td>0.042683</td>\n",
       "      <td>0.012195</td>\n",
       "      <td>0.033537</td>\n",
       "      <td>0.009146</td>\n",
       "      <td>0.039634</td>\n",
       "      <td>...</td>\n",
       "      <td>0.658537</td>\n",
       "      <td>0.692073</td>\n",
       "      <td>0.597561</td>\n",
       "      <td>0.881098</td>\n",
       "      <td>0.67378</td>\n",
       "      <td>0.710366</td>\n",
       "      <td>0.682927</td>\n",
       "      <td>1.0</td>\n",
       "      <td>0.804878</td>\n",
       "      <td>0.545732</td>\n",
       "    </tr>\n",
       "    <tr>\n",
       "      <th>Boston Field Office</th>\n",
       "      <td>0.242847</td>\n",
       "      <td>0.171496</td>\n",
       "      <td>0.272365</td>\n",
       "      <td>0.16226</td>\n",
       "      <td>0.234698</td>\n",
       "      <td>0.100869</td>\n",
       "      <td>0.0431</td>\n",
       "      <td>0.0</td>\n",
       "      <td>0.040746</td>\n",
       "      <td>0.027888</td>\n",
       "      <td>...</td>\n",
       "      <td>1.0</td>\n",
       "      <td>0.61427</td>\n",
       "      <td>0.578776</td>\n",
       "      <td>0.757334</td>\n",
       "      <td>0.806592</td>\n",
       "      <td>0.644151</td>\n",
       "      <td>0.847881</td>\n",
       "      <td>0.88573</td>\n",
       "      <td>0.861101</td>\n",
       "      <td>0.807678</td>\n",
       "    </tr>\n",
       "  </tbody>\n",
       "</table>\n",
       "<p>5 rows × 57 columns</p>\n",
       "</div>"
      ],
      "text/plain": [
       "                       2019-10-01 2019-11-01 2019-12-01 2020-01-01 2020-02-01  \\\n",
       "Area of Responsibility                                                          \n",
       "Atlanta Field Office     0.309259   0.148765   0.026543   0.003704        0.0   \n",
       "Baltimore Field Office   0.202374    0.26286   0.323912   0.346523   0.325042   \n",
       "Big Bend Sector          0.090589   0.064323   0.067839   0.080455   0.071768   \n",
       "Blaine Sector            0.091463   0.067073   0.103659   0.070122    0.07622   \n",
       "Boston Field Office      0.242847   0.171496   0.272365    0.16226   0.234698   \n",
       "\n",
       "                       2020-03-01 2020-04-01 2020-05-01 2020-06-01 2020-07-01  \\\n",
       "Area of Responsibility                                                          \n",
       "Atlanta Field Office     0.201235   0.318519        1.0   0.624074   0.559877   \n",
       "Baltimore Field Office   0.159412        0.0   0.052007   0.036744   0.017524   \n",
       "Big Bend Sector           0.09514   0.060393   0.085419   0.092037   0.109824   \n",
       "Blaine Sector            0.042683   0.012195   0.033537   0.009146   0.039634   \n",
       "Boston Field Office      0.100869     0.0431        0.0   0.040746   0.027888   \n",
       "\n",
       "                        ... 2023-09-01 2023-10-01 2023-11-01 2023-12-01  \\\n",
       "Area of Responsibility  ...                                               \n",
       "Atlanta Field Office    ...   0.388272   0.244444   0.401852   0.287654   \n",
       "Baltimore Field Office  ...   0.940079   0.851328   0.811758   0.821933   \n",
       "Big Bend Sector         ...   0.071355   0.054602    0.04364    0.02213   \n",
       "Blaine Sector           ...   0.658537   0.692073   0.597561   0.881098   \n",
       "Boston Field Office     ...        1.0    0.61427   0.578776   0.757334   \n",
       "\n",
       "                       2024-01-01 2024-02-01 2024-03-01 2024-04-01 2024-05-01  \\\n",
       "Area of Responsibility                                                          \n",
       "Atlanta Field Office     0.340741   0.267284   0.329012   0.324691   0.340741   \n",
       "Baltimore Field Office   0.836631   0.848502   0.765969   0.681176    0.66026   \n",
       "Big Bend Sector          0.022544   0.073009   0.045708   0.064943   0.110858   \n",
       "Blaine Sector             0.67378   0.710366   0.682927        1.0   0.804878   \n",
       "Boston Field Office      0.806592   0.644151   0.847881    0.88573   0.861101   \n",
       "\n",
       "                       2024-06-01  \n",
       "Area of Responsibility             \n",
       "Atlanta Field Office     0.301235  \n",
       "Baltimore Field Office    0.74788  \n",
       "Big Bend Sector               0.0  \n",
       "Blaine Sector            0.545732  \n",
       "Boston Field Office      0.807678  \n",
       "\n",
       "[5 rows x 57 columns]"
      ]
     },
     "execution_count": 3,
     "metadata": {},
     "output_type": "execute_result"
    }
   ],
   "source": [
    "# Load data as csv\n",
    "sector_train = pd.read_csv(sector_data_csv_path_train_pivoted, index_col='Area of Responsibility')\n",
    "\n",
    "# Import the scaler\n",
    "with open(scalers_file, \"rb\") as file:\n",
    "    scalers = pickle.load(file)\n",
    "\n",
    "# DONE : Create scaled version of original Dataframe\n",
    "# Apply pre-trained scalers row-wise\n",
    "\n",
    "# Create an empty DataFrame to store scaled values\n",
    "sector_train_scaled = pd.DataFrame(index=sector_train.index, columns=sector_train.columns)\n",
    "\n",
    "# Apply each pre-trained scaler row-wise\n",
    "for index, row in sector_train.iterrows():\n",
    "\tscaler = scalers[index]\n",
    "\tscaled_row = scaler.transform(row.values.reshape(-1, 1)).flatten()\n",
    "\tsector_train_scaled.loc[index] = scaled_row\n",
    "\n",
    "sector_train_scaled.head()"
   ]
  },
  {
   "cell_type": "code",
   "execution_count": 4,
   "metadata": {},
   "outputs": [
    {
     "data": {
      "text/plain": [
       "(41, 6)"
      ]
     },
     "execution_count": 4,
     "metadata": {},
     "output_type": "execute_result"
    }
   ],
   "source": [
    "# Import Test data\n",
    "test_data = pd.read_csv(sector_data_csv_path_test_pivoted, index_col='Area of Responsibility')\n",
    "test_data.shape"
   ]
  },
  {
   "cell_type": "code",
   "execution_count": 5,
   "metadata": {},
   "outputs": [],
   "source": [
    "from statsmodels.tsa.arima.model import ARIMA\n",
    "import numpy as np\n",
    "import pandas as pd\n",
    "import itertools\n",
    "import warnings\n",
    "\n",
    "warnings.filterwarnings(\"ignore\")  # Suppress warnings\n",
    "\n",
    "# Define the range of ARIMA parameters to search\n",
    "p_values = range(0, 4)  # Autoregressive terms\n",
    "d_values = range(0, 2)  # Differencing order\n",
    "q_values = range(0, 4)  # Moving average terms\n",
    "\n",
    "# Generate all (p, d, q) combinations safely\n",
    "pdq_combinations = list(itertools.product(p_values, d_values, q_values))\n",
    "\n",
    "# Ensure all values are valid integers (avoid NaNs, None, etc.)\n",
    "fixed_pdq_combinations = [\n",
    "    tuple(int(value) for value in order)  # Explicit integer conversion\n",
    "    for order in pdq_combinations\n",
    "]\n",
    "\n",
    "# Dictionary to store predictions\n",
    "predictions_dict = {}\n",
    "\n",
    "# Iterate over each time series row\n",
    "for index, row in sector_train_scaled.iterrows():\n",
    "    try:\n",
    "        # Convert row to numeric and drop NaN values\n",
    "        input_series = pd.to_numeric(row, errors='coerce').dropna().values.flatten()\n",
    "\n",
    "        # Ensure input_series is numeric and of sufficient length\n",
    "        if len(input_series) < 3:\n",
    "            print(f\"Skipping index {index}: Not enough data points for ARIMA.\")\n",
    "            continue\n",
    "        \n",
    "        # Grid search to find the best ARIMA parameters\n",
    "        best_aic = float(\"inf\")\n",
    "        best_order = None\n",
    "        best_model = None\n",
    "\n",
    "        for order in fixed_pdq_combinations:\n",
    "            try:\n",
    "                model = ARIMA(input_series, order=order)\n",
    "                fitted_model = model.fit()\n",
    "                aic = fitted_model.aic  # Akaike Information Criterion\n",
    "\n",
    "                if aic < best_aic:\n",
    "                    best_aic = aic\n",
    "                    best_order = order\n",
    "                    best_model = fitted_model\n",
    "\n",
    "            except Exception as e:\n",
    "                print(f\"Skipping ARIMA{order} for index {index}: {e}\")\n",
    "                continue  # Skip parameter sets that fail to converge\n",
    "\n",
    "        # Ensure a valid model was selected\n",
    "        if best_model is not None and index in test_data.index:\n",
    "            test_set = test_data.loc[index]\n",
    "            steps_ahead = len(test_set)\n",
    "\n",
    "            if steps_ahead > 0:\n",
    "                try:\n",
    "                    # Forecast future values\n",
    "                    predictions = best_model.forecast(steps=steps_ahead).flatten()\n",
    "\n",
    "                    # Inverse transform predictions if applicable\n",
    "                    if index in scalers:\n",
    "                        predictions = scalers[index].inverse_transform(\n",
    "                            predictions.reshape(-1, 1)\n",
    "                        ).flatten()\n",
    "\n",
    "                    # Store predictions\n",
    "                    predictions_dict[index] = predictions\n",
    "\n",
    "                except Exception as e:\n",
    "                    print(f\"Error in forecasting for {index}: {e}\")\n",
    "\n",
    "    except Exception as e:\n",
    "        print(f\"Skipping index {index} due to unexpected error: {e}\")"
   ]
  },
  {
   "cell_type": "code",
   "execution_count": 6,
   "metadata": {},
   "outputs": [
    {
     "data": {
      "image/png": "[encoded data removed]",
      "text/plain": [
       "<Figure size 1000x600 with 1 Axes>"
      ]
     },
     "metadata": {},
     "output_type": "display_data"
    }
   ],
   "source": [
    "def calculate_mape(predictions, actuals):\n",
    "    return np.mean(np.abs((actuals - predictions) / actuals)) * 100\n",
    "\n",
    "# Initialize a dictionary to store MAPE values for each time step\n",
    "mape_dict = {col: [] for col in test_data.columns}\n",
    "\n",
    "# Iterate over each index in the predictions dictionary\n",
    "for index, predictions in predictions_dict.items():\n",
    "    if index in test_data.index:\n",
    "        actuals = test_data.loc[index].values\n",
    "        for i, col in enumerate(test_data.columns):\n",
    "            if i < len(predictions):\n",
    "                mape = calculate_mape(predictions[i], actuals[i])\n",
    "                mape_dict[col].append(mape)\n",
    "\n",
    "# Calculate the average MAPE for each time step\n",
    "average_mape_dict = {col: np.mean(mapes) for col, mapes in mape_dict.items()}\n",
    "import matplotlib.pyplot as plt\n",
    "\n",
    "# Plot the average MAPE for each time step\n",
    "plt.figure(figsize=(10, 6))\n",
    "plt.plot(list(average_mape_dict.keys()), list(average_mape_dict.values()), marker='o')\n",
    "plt.title('Average MAPE for Each Time Step')\n",
    "plt.xlabel('Time Step')\n",
    "plt.ylabel('Average MAPE')\n",
    "plt.grid(True)\n",
    "plt.xticks(rotation=45)\n",
    "plt.tight_layout()\n",
    "plt.show()"
   ]
  },
  {
   "cell_type": "code",
   "execution_count": 7,
   "metadata": {},
   "outputs": [
    {
     "name": "stdout",
     "output_type": "stream",
     "text": [
      "Overall Average MAPE: 92.87%\n"
     ]
    }
   ],
   "source": [
    "# Calculate the overall average MAPE\n",
    "overall_average_mape = np.mean(list(average_mape_dict.values()))\n",
    "\n",
    "print(f\"Overall Average MAPE: {overall_average_mape:.2f}%\")"
   ]
  },
  {
   "cell_type": "code",
   "execution_count": 8,
   "metadata": {},
   "outputs": [],
   "source": [
    "# Convert predictions_dict to a DataFrame\n",
    "predictions_df = pd.DataFrame.from_dict(predictions_dict, orient='index', columns=test_data.columns[:steps_ahead])\n",
    "\n",
    "# Display the DataFrame\n",
    "predictions_df.to_csv(project_root / \"Model_Outputs\" / \"arima_model_results.csv\", index=False)"
   ]
  },
  {
   "cell_type": "code",
   "execution_count": 9,
   "metadata": {},
   "outputs": [
    {
     "data": {
      "text/plain": [
       "{'2024-07-01': np.float64(46.904855085785925),\n",
       " '2024-08-01': np.float64(52.23233742983653)}"
      ]
     },
     "execution_count": 9,
     "metadata": {},
     "output_type": "execute_result"
    }
   ],
   "source": [
    "# Initialize a dictionary to store MAPE values for the first 2 months\n",
    "mape_first_2_months_dict = {col: [] for col in test_data.columns[:2]}\n",
    "\n",
    "# Iterate over each index in the predictions dictionary\n",
    "for index, predictions in predictions_dict.items():\n",
    "    if index in test_data.index:\n",
    "        actuals = test_data.loc[index].values[:2]  # Only consider the first 2 months\n",
    "        for i, col in enumerate(test_data.columns[:2]):\n",
    "            if i < len(predictions):\n",
    "                mape = calculate_mape(predictions[i], actuals[i])\n",
    "                mape_first_2_months_dict[col].append(mape)\n",
    "\n",
    "# Calculate the average MAPE for the first 2 months\n",
    "average_mape_first_2_months_dict = {col: np.mean(mapes) for col, mapes in mape_first_2_months_dict.items()}\n",
    "\n",
    "# Display the average MAPE for the first 2 months\n",
    "average_mape_first_2_months_dict"
   ]
  },
  {
   "cell_type": "code",
   "execution_count": 10,
   "metadata": {},
   "outputs": [
    {
     "data": {
      "text/plain": [
       "np.float64(49.56859625781122)"
      ]
     },
     "execution_count": 10,
     "metadata": {},
     "output_type": "execute_result"
    }
   ],
   "source": [
    "average_mape = np.mean(list(average_mape_first_2_months_dict.values()))\n",
    "average_mape"
   ]
  },
  {
   "cell_type": "code",
   "execution_count": null,
   "metadata": {},
   "outputs": [
    {
     "data": {
      "image/png": "[encoded data removed]",
      "text/plain": [
       "<Figure size 1200x600 with 1 Axes>"
      ]
     },
     "metadata": {},
     "output_type": "display_data"
    }
   ],
   "source": [
    "# Ensure \"Del Rio Sector\" exists in the data\n",
    "sector_name = \"Del Rio Sector\"\n",
    "\n",
    "if sector_name in sector_train_scaled.index and sector_name in test_data.index and sector_name in predictions_dict:\n",
    "    # Extract train, test, and predicted data\n",
    "\n",
    "# predictions = scalers[index].inverse_transform(\n",
    "#                             predictions.reshape(-1, 1)\n",
    "#                         ).flatten()\n",
    "# \n",
    "\n",
    "    train_data = scalers[sector_name].inverse_transform(sector_train_scaled.loc[sector_name].values.reshape(-1, 1)).flatten()\n",
    "    test_data_sector = test_data.loc[sector_name].astype(float)\n",
    "    predicted_data = predictions_dict[sector_name]\n",
    "\n",
    "    # Plot the data\n",
    "    plt.figure(figsize=(12, 6))\n",
    "    plt.plot(train_data, train_data.values, label=\"Train Data\", marker='o')\n",
    "    plt.plot(test_data_sector.index, test_data_sector.values, label=\"Test Data\", marker='o')\n",
    "    plt.plot(test_data_sector.index[:len(predicted_data)], predicted_data, label=\"Predicted Data\", marker='o')\n",
    "\n",
    "    plt.title(f\"Train, Test, and Predicted Data for {sector_name}\")\n",
    "    plt.xlabel(\"Time Step\")\n",
    "    plt.ylabel(\"Values\")\n",
    "    plt.legend()\n",
    "    plt.grid(True)\n",
    "    plt.xticks(rotation=45)\n",
    "    plt.tight_layout()\n",
    "    plt.show()\n",
    "else:\n",
    "    print(f\"Data for {sector_name} is not available in train, test, or predictions.\")"
   ]
  },
  {
   "cell_type": "code",
   "execution_count": null,
   "metadata": {},
   "outputs": [],
   "source": []
  }
 ],
 "metadata": {
  "kernelspec": {
   "display_name": "capstone",
   "language": "python",
   "name": "python3"
  },
  "language_info": {
   "codemirror_mode": {
    "name": "ipython",
    "version": 3
   },
   "file_extension": ".py",
   "mimetype": "text/x-python",
   "name": "python",
   "nbconvert_exporter": "python",
   "pygments_lexer": "ipython3",
   "version": "3.12.3"
  }
 },
 "nbformat": 4,
 "nbformat_minor": 2
}
